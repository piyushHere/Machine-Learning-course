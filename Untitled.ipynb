{
 "cells": [
  {
   "cell_type": "code",
   "execution_count": null,
   "metadata": {},
   "outputs": [],
   "source": [
    "numbers = [int(x) for x in input().split()]"
   ]
  },
  {
   "cell_type": "code",
   "execution_count": null,
   "metadata": {},
   "outputs": [],
   "source": [
    "numbers"
   ]
  },
  {
   "cell_type": "code",
   "execution_count": null,
   "metadata": {},
   "outputs": [],
   "source": [
    "l = []\n",
    "while True:\n",
    "    line = input()\n",
    "    if line:\n",
    "        l.append(int(line))\n",
    "    else:\n",
    "        break\n",
    "print(l)"
   ]
  },
  {
   "cell_type": "code",
   "execution_count": null,
   "metadata": {},
   "outputs": [],
   "source": [
    "def ou(l):\n",
    "    for i in l:\n",
    "        if sum < 0:\n",
    "            break\n",
    "        print(i)\n",
    "        sum = sum+i\n",
    "    return"
   ]
  },
  {
   "cell_type": "code",
   "execution_count": null,
   "metadata": {},
   "outputs": [],
   "source": [
    "def ou(l):\n",
    "    sum = 0\n",
    "    for i in l:\n",
    "        sum = sum+i\n",
    "        if sum < 0:\n",
    "            break\n",
    "        print(i)\n",
    "    return\n",
    "\n",
    "l = []\n",
    "while True:\n",
    "    line = input()\n",
    "    if line:\n",
    "        l.append(int(line))\n",
    "    else:\n",
    "        break\n",
    "ou(l)"
   ]
  },
  {
   "cell_type": "code",
   "execution_count": null,
   "metadata": {},
   "outputs": [],
   "source": [
    "n = int(input())\n",
    "l = [int(i) for i in input().split()]\n",
    "i = 1\n",
    "if n == 1:\n",
    "    print(\"true\")\n",
    "\n",
    "while i<n and l[i]<l[i-1]:\n",
    "    i+=1\n",
    "while i<n and l[i]>l[i-1]:\n",
    "    i+=1\n",
    "\n",
    "if i==n:\n",
    "    print(\"true\")\n",
    "else:\n",
    "    print(\"false\")"
   ]
  },
  {
   "cell_type": "code",
   "execution_count": null,
   "metadata": {},
   "outputs": [],
   "source": [
    "t =(1,3)\n",
    "print(t)\n"
   ]
  },
  {
   "cell_type": "code",
   "execution_count": null,
   "metadata": {},
   "outputs": [],
   "source": [
    "print(type(tupple))"
   ]
  },
  {
   "cell_type": "code",
   "execution_count": null,
   "metadata": {},
   "outputs": [],
   "source": [
    "t = ()\n",
    "x = input()\n",
    "t+(x,)\n",
    "print(t)\n"
   ]
  },
  {
   "cell_type": "code",
   "execution_count": 4,
   "metadata": {},
   "outputs": [
    {
     "name": "stdout",
     "output_type": "stream",
     "text": [
      "3\n",
      "25\n",
      "(0,5) (3,4) \n",
      "9\n",
      "(0,3) \n",
      "16\n",
      "(0,4) \n"
     ]
    }
   ],
   "source": [
    "def pr(n):\n",
    "    u = int(n**0.5)\n",
    "    for a in range(u+1):\n",
    "        for b in range(a+1,u+1):\n",
    "            if a**2 + b**2 == n:\n",
    "                print(\"(\",a,\",\",b,\")\", sep =\"\", end=\" \")\n",
    "n = int(input())\n",
    "for i in range(n):\n",
    "    x = int(input())\n",
    "    pr(x)\n",
    "    print()\n",
    "\n",
    "\n",
    "    "
   ]
  },
  {
   "cell_type": "markdown",
   "metadata": {},
   "source": [
    "# i=3\n",
    "j=4\n",
    "t = (i,j)\n",
    "print(t)"
   ]
  },
  {
   "cell_type": "code",
   "execution_count": null,
   "metadata": {},
   "outputs": [],
   "source": [
    "print(type(t))"
   ]
  },
  {
   "cell_type": "code",
   "execution_count": null,
   "metadata": {},
   "outputs": [],
   "source": [
    "def pr(n):\n",
    "    u = int(n**0.5)\n",
    "    for a in range(u+1):\n",
    "        for b in range(a,u+1):\n",
    "            if a**2 + b**2 == n:\n",
    "                t = (a,b)\n",
    "                print(t,end = \" \")\n",
    "n = int(input())\n",
    "#l = [int(i) for i in input().split()]\n",
    "for i in range(n):\n",
    "\tx = int(input())\n",
    "\tpr(x)\n",
    "\tprint()\n",
    "\n",
    "\n",
    "    "
   ]
  },
  {
   "cell_type": "code",
   "execution_count": null,
   "metadata": {},
   "outputs": [],
   "source": [
    "n = int(input())\n",
    "for i in range n:\n",
    "    l = [int(x) for x in input().split()]\n",
    "    prime(l)\n"
   ]
  },
  {
   "cell_type": "code",
   "execution_count": null,
   "metadata": {},
   "outputs": [],
   "source": [
    "def sieve(n,l):\n",
    "    l=[True for x in range(n+1)]\n",
    "    p=2\n",
    "    while p**2 <= n:\n",
    "        if l[p]==True:\n",
    "            i = p**2\n",
    "            while(i<=n):\n",
    "                l[i]=False\n",
    "                i +=p\n",
    "        p+=1\n",
    "    return l\n",
    "l =sieve(100,l)\n",
    "l[1]=False\n",
    "n = int(input())\n",
    "for x in range(n):\n",
    "    m = [int(i) for i in input().split()]\n",
    "    for k in range(m[0],m[1]+1):\n",
    "        if l[k]==True:\n",
    "            print(k,end =\" \")\n",
    "    print()\n",
    "\n",
    "\n",
    "    \n",
    "    "
   ]
  },
  {
   "cell_type": "code",
   "execution_count": null,
   "metadata": {},
   "outputs": [],
   "source": [
    "l =[True for x in range(100)]"
   ]
  },
  {
   "cell_type": "code",
   "execution_count": null,
   "metadata": {},
   "outputs": [],
   "source": [
    "n = int(input())\n",
    "for i in range(n):\n",
    "\tl =[int(i) for i in input().split()]\n",
    "\tfor j in range(l[0],l[1]+1):\n",
    "\t\tif prime(j)==True:\n",
    "\t\t\tprint(j,end=\" \")\n",
    "\tprint()"
   ]
  },
  {
   "cell_type": "code",
   "execution_count": 5,
   "metadata": {},
   "outputs": [],
   "source": [
    "import matplotlib as pt"
   ]
  },
  {
   "cell_type": "code",
   "execution_count": 8,
   "metadata": {},
   "outputs": [
    {
     "ename": "AttributeError",
     "evalue": "module 'matplotlib' has no attribute 'plot'",
     "output_type": "error",
     "traceback": [
      "\u001b[1;31m---------------------------------------------------------------------------\u001b[0m",
      "\u001b[1;31mAttributeError\u001b[0m                            Traceback (most recent call last)",
      "\u001b[1;32m<ipython-input-8-f1ead8b2f8f6>\u001b[0m in \u001b[0;36m<module>\u001b[1;34m\u001b[0m\n\u001b[0;32m      1\u001b[0m \u001b[0mx\u001b[0m\u001b[1;33m=\u001b[0m\u001b[1;36m1\u001b[0m\u001b[1;33m\u001b[0m\u001b[1;33m\u001b[0m\u001b[0m\n\u001b[0;32m      2\u001b[0m \u001b[0my\u001b[0m\u001b[1;33m=\u001b[0m\u001b[1;36m1\u001b[0m\u001b[1;33m\u001b[0m\u001b[1;33m\u001b[0m\u001b[0m\n\u001b[1;32m----> 3\u001b[1;33m \u001b[0mpt\u001b[0m\u001b[1;33m.\u001b[0m\u001b[0mplot\u001b[0m\u001b[1;33m(\u001b[0m\u001b[0mx\u001b[0m\u001b[1;33m,\u001b[0m\u001b[0my\u001b[0m\u001b[1;33m)\u001b[0m\u001b[1;33m\u001b[0m\u001b[1;33m\u001b[0m\u001b[0m\n\u001b[0m",
      "\u001b[1;31mAttributeError\u001b[0m: module 'matplotlib' has no attribute 'plot'"
     ]
    }
   ],
   "source": [
    "x=1\n",
    "y=1\n",
    "pt.plot(x,y)"
   ]
  },
  {
   "cell_type": "code",
   "execution_count": null,
   "metadata": {},
   "outputs": [],
   "source": [
    "import math\n",
    "t=int(input())\n",
    "while t>0:\n",
    "    n=int(input())\n",
    "    s=math.sqrt(n)\n",
    "    i=0\n",
    "    while i<=s:\n",
    "        j=i+1\n",
    "        while j<=s:\n",
    "            if (i*i)+(j*j)==n:\n",
    "                print(\"(\"+str(i)+\",\"+str(j)+\")\", end=\"\")\n",
    "            j=j+1\n",
    "        i=i+1    \n",
    "t=t-1"
   ]
  },
  {
   "cell_type": "markdown",
   "metadata": {},
   "source": []
  },
  {
   "cell_type": "code",
   "execution_count": null,
   "metadata": {},
   "outputs": [],
   "source": []
  }
 ],
 "metadata": {
  "kernelspec": {
   "display_name": "Python 3",
   "language": "python",
   "name": "python3"
  },
  "language_info": {
   "codemirror_mode": {
    "name": "ipython",
    "version": 3
   },
   "file_extension": ".py",
   "mimetype": "text/x-python",
   "name": "python",
   "nbconvert_exporter": "python",
   "pygments_lexer": "ipython3",
   "version": "3.7.1"
  }
 },
 "nbformat": 4,
 "nbformat_minor": 2
}
