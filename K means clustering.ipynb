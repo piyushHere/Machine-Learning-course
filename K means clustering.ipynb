{
 "cells": [
  {
   "cell_type": "code",
   "execution_count": 11,
   "metadata": {},
   "outputs": [],
   "source": [
    "import pandas as pd\n",
    "import numpy as np\n",
    "import matplotlib.pyplot as plt\n",
    "from sklearn.datasets import make_blobs"
   ]
  },
  {
   "cell_type": "code",
   "execution_count": 75,
   "metadata": {},
   "outputs": [
    {
     "name": "stdout",
     "output_type": "stream",
     "text": [
      "(500, 2)\n"
     ]
    }
   ],
   "source": [
    "X,_ = make_blobs(n_samples=500,centers=5,random_state=20)\n",
    "print(X.shape)"
   ]
  },
  {
   "cell_type": "code",
   "execution_count": 76,
   "metadata": {},
   "outputs": [
    {
     "data": {
      "image/png": "[encoded data removed]",
      "text/plain": [
       "<Figure size 432x288 with 1 Axes>"
      ]
     },
     "metadata": {
      "needs_background": "light"
     },
     "output_type": "display_data"
    }
   ],
   "source": [
    "plt.scatter(X[:,0],X[:,1])\n",
    "plt.show()"
   ]
  },
  {
   "cell_type": "code",
   "execution_count": 101,
   "metadata": {},
   "outputs": [
    {
     "name": "stdout",
     "output_type": "stream",
     "text": [
      "{'center': array([-7.48793852,  1.87575859]), 'points': [], 'color': 'red'}\n"
     ]
    }
   ],
   "source": [
    "colors = ['red', 'blue','green','pink','orange']\n",
    "k=5\n",
    "\n",
    "clusters = {}\n",
    "\n",
    "#init Cluster Centers\n",
    "for i in range(k):\n",
    "    center = 10*(2*np.random.random((2,))-1)\n",
    "    cluster ={\n",
    "        'center': center,\n",
    "        'points':[],\n",
    "        'color':colors[i]\n",
    "    }\n",
    "    clusters[i]=cluster\n",
    "print(clusters[0])"
   ]
  },
  {
   "cell_type": "code",
   "execution_count": 102,
   "metadata": {},
   "outputs": [],
   "source": [
    "def distance(p1,p2):\n",
    "    return np.sqrt(np.sum((p1-p2)**2))"
   ]
  },
  {
   "cell_type": "code",
   "execution_count": 103,
   "metadata": {},
   "outputs": [],
   "source": [
    "# 1. Step - Assign each point to onr of the cluster based on the distance\n",
    "def assignPointToCluster(Clusters):\n",
    "    \n",
    "    m = X.shape[0]\n",
    "    #for every point\n",
    "    for i in range(m):\n",
    "        current_x = X[i]\n",
    "        dist = []\n",
    "        #for every cluster center find the one nearest to the center\n",
    "        for j in range(k):\n",
    "            cc = clusters[j]['center']\n",
    "            d = distance(current_x,cc)\n",
    "            dist.append(d)\n",
    "        nearest = np.argmin(dist)\n",
    "        clusters[nearest]['points'].append(current_x)"
   ]
  },
  {
   "cell_type": "code",
   "execution_count": 104,
   "metadata": {},
   "outputs": [],
   "source": [
    "#Update cluster points\n",
    "def updateClusterCenters(clusters):\n",
    "    for i in range(k):\n",
    "        pts=np.array(clusters[i]['points'])\n",
    "        if pts.shape[0]>0:\n",
    "            u = pts.mean(axis=0)\n",
    "        clusters[i]['center']=u\n",
    "        clusters[i]['points']=[]"
   ]
  },
  {
   "cell_type": "code",
   "execution_count": 105,
   "metadata": {},
   "outputs": [],
   "source": [
    "def plotCLusters(clusters):\n",
    "    for i in range(k):\n",
    "        pts = np.array(clusters[i]['points'])\n",
    "        ui = clusters[i]['center']\n",
    "        if pts.shape[0]>0:\n",
    "            clr = clusters[i]['color']\n",
    "            plt.scatter(pts[:,0],pts[:,1],c=clr)\n",
    "        plt.scatter(ui[0],ui[1], c='black',marker = '*')"
   ]
  },
  {
   "cell_type": "code",
   "execution_count": 107,
   "metadata": {},
   "outputs": [
    {
     "data": {
      "image/png": "[encoded data removed]",
      "text/plain": [
       "<Figure size 432x288 with 1 Axes>"
      ]
     },
     "metadata": {
      "needs_background": "light"
     },
     "output_type": "display_data"
    }
   ],
   "source": [
    "assignPointToCluster(clusters)\n",
    "updateClusterCenters(clusters)\n",
    "plotCLusters(clusters)"
   ]
  },
  {
   "cell_type": "code",
   "execution_count": 108,
   "metadata": {},
   "outputs": [
    {
     "data": {
      "text/plain": [
       "{0: {'center': array([-9.41045484,  3.90984505]),\n",
       "  'points': [],\n",
       "  'color': 'red'},\n",
       " 1: {'center': array([-9.41045484,  3.90984505]),\n",
       "  'points': [],\n",
       "  'color': 'blue'},\n",
       " 2: {'center': array([ 3.28857717, -6.15519417]),\n",
       "  'points': [],\n",
       "  'color': 'green'},\n",
       " 3: {'center': array([4.82383767, 7.18986028]), 'points': [], 'color': 'pink'},\n",
       " 4: {'center': array([-2.70399202,  0.46108905]),\n",
       "  'points': [],\n",
       "  'color': 'orange'}}"
      ]
     },
     "execution_count": 108,
     "metadata": {},
     "output_type": "execute_result"
    }
   ],
   "source": [
    "clusters"
   ]
  },
  {
   "cell_type": "code",
   "execution_count": 111,
   "metadata": {},
   "outputs": [
    {
     "ename": "ModuleNotFoundError",
     "evalue": "No module named 'opencv2'",
     "output_type": "error",
     "traceback": [
      "\u001b[1;31m---------------------------------------------------------------------------\u001b[0m",
      "\u001b[1;31mModuleNotFoundError\u001b[0m                       Traceback (most recent call last)",
      "\u001b[1;32m<ipython-input-111-1a6b808b7047>\u001b[0m in \u001b[0;36m<module>\u001b[1;34m\u001b[0m\n\u001b[1;32m----> 1\u001b[1;33m \u001b[1;32mimport\u001b[0m \u001b[0mopencv2\u001b[0m\u001b[1;33m\u001b[0m\u001b[1;33m\u001b[0m\u001b[0m\n\u001b[0m",
      "\u001b[1;31mModuleNotFoundError\u001b[0m: No module named 'opencv2'"
     ]
    }
   ],
   "source": [
    "import opencv2"
   ]
  },
  {
   "cell_type": "code",
   "execution_count": 112,
   "metadata": {},
   "outputs": [],
   "source": [
    "import cv2"
   ]
  }
 ],
 "metadata": {
  "kernelspec": {
   "display_name": "Python 3",
   "language": "python",
   "name": "python3"
  },
  "language_info": {
   "codemirror_mode": {
    "name": "ipython",
    "version": 3
   },
   "file_extension": ".py",
   "mimetype": "text/x-python",
   "name": "python",
   "nbconvert_exporter": "python",
   "pygments_lexer": "ipython3",
   "version": "3.7.3"
  }
 },
 "nbformat": 4,
 "nbformat_minor": 2
}
