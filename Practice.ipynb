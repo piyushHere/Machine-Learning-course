{
 "cells": [
  {
   "cell_type": "code",
   "execution_count": 1,
   "metadata": {},
   "outputs": [],
   "source": [
    "import numpy as np"
   ]
  },
  {
   "cell_type": "code",
   "execution_count": 7,
   "metadata": {},
   "outputs": [
    {
     "data": {
      "text/plain": [
       "(2, 4)"
      ]
     },
     "execution_count": 7,
     "metadata": {},
     "output_type": "execute_result"
    }
   ],
   "source": [
    "a = np.array([[1,2,3,4],[3,4,5,6]])\n",
    "a.shape"
   ]
  },
  {
   "cell_type": "code",
   "execution_count": 13,
   "metadata": {},
   "outputs": [
    {
     "data": {
      "text/plain": [
       "array([[0.67246073, 0.92799334, 0.63267285, 0.18511519, 0.64256501],\n",
       "       [0.55130687, 0.62146467, 0.33433786, 0.34854611, 0.85795014],\n",
       "       [0.62627521, 0.33008598, 0.88204291, 0.43398155, 0.91257599],\n",
       "       [0.38683192, 0.48324418, 0.67792821, 0.09469321, 0.31364453],\n",
       "       [0.0691084 , 0.14691474, 0.66181046, 0.85759436, 0.11294751]])"
      ]
     },
     "execution_count": 13,
     "metadata": {},
     "output_type": "execute_result"
    }
   ],
   "source": [
    "random = np.random.random((5,5))\n",
    "random[:,:]"
   ]
  },
  {
   "cell_type": "code",
   "execution_count": 20,
   "metadata": {},
   "outputs": [
    {
     "data": {
      "text/plain": [
       "array([[0.63267285, 0.18511519, 0.64256501],\n",
       "       [0.33433786, 0.34854611, 0.85795014],\n",
       "       [0.88204291, 0.43398155, 0.91257599]])"
      ]
     },
     "execution_count": 20,
     "metadata": {},
     "output_type": "execute_result"
    }
   ],
   "source": [
    "random[:3,2:]"
   ]
  },
  {
   "cell_type": "code",
   "execution_count": 22,
   "metadata": {},
   "outputs": [
    {
     "name": "stdout",
     "output_type": "stream",
     "text": [
      "3\n",
      "9\n",
      "\n",
      "25\n",
      "\n",
      "16\n",
      "\n"
     ]
    }
   ],
   "source": [
    "t=int(input())\n",
    "for i in range(t):\n",
    "    a=int(input())\n",
    "    if a>=0:\n",
    "        b=int(a**0.5)\n",
    "        for x in range(b):\n",
    "            for y in range(x+1,b+1):\n",
    "                if ((x*2 + y*2)==a):\n",
    "                    print(\"(\",x,\",\",y,\")\",sep=\"\",end=\" \")\n",
    "        print()"
   ]
  },
  {
   "cell_type": "code",
   "execution_count": 26,
   "metadata": {},
   "outputs": [
    {
     "name": "stdout",
     "output_type": "stream",
     "text": [
      "1\n",
      "50\n",
      "(1,7) (5,5) \n"
     ]
    }
   ],
   "source": [
    "t=int(input())\n",
    "for i in range(t):\n",
    "    a=int(input())\n",
    "    if (a>=0):\n",
    "        b=int(a**0.5)\n",
    "        for x in range(b+1):\n",
    "            for y in range(x,b+1):\n",
    "                if ((x**2 + y**2)==a):\n",
    "                    print(\"(\",x,\",\",y,\")\",sep=\"\",end=\" \")\n",
    "    print()"
   ]
  },
  {
   "cell_type": "code",
   "execution_count": null,
   "metadata": {},
   "outputs": [],
   "source": []
  }
 ],
 "metadata": {
  "kernelspec": {
   "display_name": "Python 3",
   "language": "python",
   "name": "python3"
  },
  "language_info": {
   "codemirror_mode": {
    "name": "ipython",
    "version": 3
   },
   "file_extension": ".py",
   "mimetype": "text/x-python",
   "name": "python",
   "nbconvert_exporter": "python",
   "pygments_lexer": "ipython3",
   "version": "3.7.1"
  }
 },
 "nbformat": 4,
 "nbformat_minor": 2
}
