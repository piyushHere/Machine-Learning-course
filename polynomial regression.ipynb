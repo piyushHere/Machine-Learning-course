{
 "cells": [
  {
   "cell_type": "code",
   "execution_count": 1,
   "metadata": {},
   "outputs": [],
   "source": [
    "import numpy as np\n",
    "import matplotlib.pyplot as plt\n",
    "import pandas as pd"
   ]
  },
  {
   "cell_type": "code",
   "execution_count": 7,
   "metadata": {},
   "outputs": [],
   "source": [
    "x = pd.read_csv(\"weightedX.csv\").values\n",
    "y = pd.read_csv(\"weightedY.csv\").values"
   ]
  },
  {
   "cell_type": "code",
   "execution_count": 8,
   "metadata": {},
   "outputs": [
    {
     "data": {
      "text/plain": [
       "<matplotlib.collections.PathCollection at 0x21e5e43f208>"
      ]
     },
     "execution_count": 8,
     "metadata": {},
     "output_type": "execute_result"
    },
    {
     "data": {
      "image/png": "[encoded data removed]",
      "text/plain": [
       "<Figure size 432x288 with 1 Axes>"
      ]
     },
     "metadata": {
      "needs_background": "light"
     },
     "output_type": "display_data"
    }
   ],
   "source": [
    "plt.scatter(x,y)"
   ]
  },
  {
   "cell_type": "code",
   "execution_count": 9,
   "metadata": {},
   "outputs": [],
   "source": [
    "x = (x-x.mean())/x.std()"
   ]
  },
  {
   "cell_type": "code",
   "execution_count": 15,
   "metadata": {},
   "outputs": [],
   "source": [
    "x1 = x\n",
    "x2 = x1**2\n",
    "\n",
    "X = np.hstack((x1,x2))"
   ]
  },
  {
   "cell_type": "code",
   "execution_count": 17,
   "metadata": {},
   "outputs": [
    {
     "data": {
      "text/plain": [
       "(99, 2)"
      ]
     },
     "execution_count": 17,
     "metadata": {},
     "output_type": "execute_result"
    }
   ],
   "source": [
    "X.shape"
   ]
  },
  {
   "cell_type": "code",
   "execution_count": 18,
   "metadata": {},
   "outputs": [],
   "source": [
    "from sklearn.linear_model import LinearRegression\n",
    "from sklearn.model_selection import train_test_split"
   ]
  },
  {
   "cell_type": "code",
   "execution_count": 19,
   "metadata": {},
   "outputs": [],
   "source": [
    "lr = LinearRegression()"
   ]
  },
  {
   "cell_type": "code",
   "execution_count": 21,
   "metadata": {},
   "outputs": [
    {
     "data": {
      "text/plain": [
       "LinearRegression(copy_X=True, fit_intercept=True, n_jobs=None,\n",
       "         normalize=False)"
      ]
     },
     "execution_count": 21,
     "metadata": {},
     "output_type": "execute_result"
    }
   ],
   "source": [
    "lr.fit(X,y)"
   ]
  },
  {
   "cell_type": "code",
   "execution_count": 22,
   "metadata": {},
   "outputs": [
    {
     "data": {
      "text/plain": [
       "array([[ 0.7605872 , -0.68708745]])"
      ]
     },
     "execution_count": 22,
     "metadata": {},
     "output_type": "execute_result"
    }
   ],
   "source": [
    "lr.coef_"
   ]
  },
  {
   "cell_type": "code",
   "execution_count": 23,
   "metadata": {},
   "outputs": [
    {
     "data": {
      "text/plain": [
       "1.7169492241159656"
      ]
     },
     "execution_count": 23,
     "metadata": {},
     "output_type": "execute_result"
    }
   ],
   "source": [
    "lr.intercept_[0]"
   ]
  },
  {
   "cell_type": "code",
   "execution_count": 24,
   "metadata": {},
   "outputs": [
    {
     "data": {
      "text/plain": [
       "0.8152095679916156"
      ]
     },
     "execution_count": 24,
     "metadata": {},
     "output_type": "execute_result"
    }
   ],
   "source": [
    "lr.score(X,y)"
   ]
  },
  {
   "cell_type": "code",
   "execution_count": 29,
   "metadata": {},
   "outputs": [],
   "source": [
    "output = lr.predict(X)"
   ]
  },
  {
   "cell_type": "code",
   "execution_count": 30,
   "metadata": {},
   "outputs": [
    {
     "data": {
      "text/plain": [
       "array([[-0.35705077],\n",
       "       [-0.8177695 ],\n",
       "       [-0.35449839],\n",
       "       [ 0.56434066],\n",
       "       [-0.0695723 ],\n",
       "       [ 1.63427275],\n",
       "       [-1.23691358],\n",
       "       [ 0.0964585 ],\n",
       "       [-0.15934525],\n",
       "       [-0.47787082],\n",
       "       [-0.13871693],\n",
       "       [ 1.55414447],\n",
       "       [ 1.04983848],\n",
       "       [-1.43495385],\n",
       "       [ 1.10400351],\n",
       "       [ 0.91627741],\n",
       "       [-0.66514711],\n",
       "       [ 0.7349532 ],\n",
       "       [-1.67992041],\n",
       "       [ 0.09530784],\n",
       "       [ 0.89223893],\n",
       "       [-1.3909356 ],\n",
       "       [ 0.09177215],\n",
       "       [-1.16088587],\n",
       "       [ 1.1688593 ],\n",
       "       [-0.97627703],\n",
       "       [-0.9041323 ],\n",
       "       [-0.86668541],\n",
       "       [ 0.72173099],\n",
       "       [-0.1239047 ],\n",
       "       [-1.69713857],\n",
       "       [-1.21124325],\n",
       "       [ 0.68541175],\n",
       "       [ 1.57129987],\n",
       "       [ 0.61400763],\n",
       "       [ 0.95912407],\n",
       "       [-1.15804059],\n",
       "       [ 0.85648457],\n",
       "       [ 1.21227083],\n",
       "       [ 0.97998253],\n",
       "       [ 0.79945332],\n",
       "       [ 1.32568476],\n",
       "       [-0.3942487 ],\n",
       "       [ 0.45008988],\n",
       "       [-1.88697772],\n",
       "       [ 1.60100801],\n",
       "       [-0.42514934],\n",
       "       [-0.65531205],\n",
       "       [ 0.48484002],\n",
       "       [-0.3135974 ],\n",
       "       [ 1.0955095 ],\n",
       "       [-0.00829404],\n",
       "       [-0.97703019],\n",
       "       [-1.33568266],\n",
       "       [ 0.09235794],\n",
       "       [ 1.52736531],\n",
       "       [ 1.49179924],\n",
       "       [ 0.72204481],\n",
       "       [-1.10004697],\n",
       "       [-0.12526458],\n",
       "       [-1.86660045],\n",
       "       [-0.76701044],\n",
       "       [ 0.73468123],\n",
       "       [ 0.91933191],\n",
       "       [-0.46793324],\n",
       "       [-0.46933496],\n",
       "       [-0.99641161],\n",
       "       [-1.56468633],\n",
       "       [ 0.25022947],\n",
       "       [ 1.06910692],\n",
       "       [-0.84777409],\n",
       "       [-0.23585415],\n",
       "       [-1.72965015],\n",
       "       [-1.58669545],\n",
       "       [-0.0665178 ],\n",
       "       [ 0.6529211 ],\n",
       "       [-1.76555096],\n",
       "       [ 1.59243031],\n",
       "       [-0.12235653],\n",
       "       [ 0.60068081],\n",
       "       [ 0.96483556],\n",
       "       [-0.05396507],\n",
       "       [-0.10367388],\n",
       "       [ 0.79273761],\n",
       "       [-1.04472708],\n",
       "       [ 1.46250953],\n",
       "       [-1.57638129],\n",
       "       [ 0.03969923],\n",
       "       [ 1.32170973],\n",
       "       [ 1.17180919],\n",
       "       [ 0.35435438],\n",
       "       [-0.95845634],\n",
       "       [-0.54356345],\n",
       "       [-0.69185305],\n",
       "       [-0.77269055],\n",
       "       [ 1.47694517],\n",
       "       [ 0.01181125],\n",
       "       [ 0.60499059],\n",
       "       [ 1.22057655]])"
      ]
     },
     "execution_count": 30,
     "metadata": {},
     "output_type": "execute_result"
    }
   ],
   "source": [
    "x"
   ]
  },
  {
   "cell_type": "markdown",
   "metadata": {},
   "source": [
    "# close form solution"
   ]
  }
 ],
 "metadata": {
  "kernelspec": {
   "display_name": "Python 3",
   "language": "python",
   "name": "python3"
  },
  "language_info": {
   "codemirror_mode": {
    "name": "ipython",
    "version": 3
   },
   "file_extension": ".py",
   "mimetype": "text/x-python",
   "name": "python",
   "nbconvert_exporter": "python",
   "pygments_lexer": "ipython3",
   "version": "3.7.1"
  }
 },
 "nbformat": 4,
 "nbformat_minor": 2
}
