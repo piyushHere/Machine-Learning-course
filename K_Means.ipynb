{
 "cells": [
  {
   "cell_type": "markdown",
   "metadata": {},
   "source": [
    "# K-MEANS"
   ]
  },
  {
   "cell_type": "code",
   "execution_count": 1,
   "metadata": {},
   "outputs": [],
   "source": [
    "import numpy as np"
   ]
  },
  {
   "cell_type": "code",
   "execution_count": 2,
   "metadata": {},
   "outputs": [],
   "source": [
    "import matplotlib.pyplot as plt"
   ]
  },
  {
   "cell_type": "code",
   "execution_count": 3,
   "metadata": {},
   "outputs": [],
   "source": [
    "from sklearn.datasets import make_blobs"
   ]
  },
  {
   "cell_type": "code",
   "execution_count": 4,
   "metadata": {},
   "outputs": [
    {
     "name": "stdout",
     "output_type": "stream",
     "text": [
      "(500, 2)\n"
     ]
    }
   ],
   "source": [
    "x,_=make_blobs(n_samples=500, centers=5, random_state=20)\n",
    "print(x.shape)"
   ]
  },
  {
   "cell_type": "code",
   "execution_count": 5,
   "metadata": {},
   "outputs": [
    {
     "data": {
      "image/png": "[encoded data removed]",
      "text/plain": [
       "<Figure size 432x288 with 1 Axes>"
      ]
     },
     "metadata": {
      "needs_background": "light"
     },
     "output_type": "display_data"
    }
   ],
   "source": [
    "plt.scatter(x[:,0],x[:,1])\n",
    "plt.show()"
   ]
  },
  {
   "cell_type": "code",
   "execution_count": 6,
   "metadata": {},
   "outputs": [
    {
     "name": "stdout",
     "output_type": "stream",
     "text": [
      "{0: {'center': array([5.58294499, 2.45947942]), 'points': [], 'color': 'red'}, 1: {'center': array([8.98031065, 7.43846199]), 'points': [], 'color': 'green'}, 2: {'center': array([ 9.80145484, -3.09976683]), 'points': [], 'color': 'blue'}, 3: {'center': array([-1.68233132,  2.58308174]), 'points': [], 'color': 'pink'}, 4: {'center': array([-6.09845942,  9.28975391]), 'points': [], 'color': 'orange'}}\n"
     ]
    }
   ],
   "source": [
    "k=5\n",
    "colors=['red','green','blue','pink','orange']\n",
    "\n",
    "#Dictionary\n",
    "clusters={}\n",
    "\n",
    "\n",
    "#init CLuster Centers\n",
    "for i in range(k):\n",
    "    center = 10*(2*np.random.random((2,))-1)\n",
    "    cluster = {\n",
    "        'center':center,\n",
    "        'points':[],\n",
    "        'color':colors[i]\n",
    "    }\n",
    "    clusters[i]=cluster\n",
    "print(clusters)"
   ]
  },
  {
   "cell_type": "code",
   "execution_count": 7,
   "metadata": {},
   "outputs": [
    {
     "data": {
      "text/plain": [
       "{'center': array([5.58294499, 2.45947942]), 'points': [], 'color': 'red'}"
      ]
     },
     "execution_count": 7,
     "metadata": {},
     "output_type": "execute_result"
    }
   ],
   "source": [
    "clusters[0]"
   ]
  },
  {
   "cell_type": "code",
   "execution_count": 8,
   "metadata": {},
   "outputs": [],
   "source": [
    "def distance(p1,p2):\n",
    "    return np.sqrt(np.sum((p1-p2)**2))"
   ]
  },
  {
   "cell_type": "code",
   "execution_count": 9,
   "metadata": {},
   "outputs": [],
   "source": [
    "# 1. STEP - Assign each point to one of the Cluster based upon distance\n",
    "def assignpointtoCLuster(clusters):\n",
    "    m=x.shape[0]\n",
    "    for i in range(m):\n",
    "        current_x = x[i]\n",
    "        dist=[]\n",
    "        #For Every Cluster \n",
    "        for j in range(k):\n",
    "            cc=clusters[j]['center']\n",
    "            d=distance(current_x,cc)\n",
    "            dist.append(d)\n",
    "        nearest= np.argmin(dist)\n",
    "        clusters[nearest]['points'].append(current_x)"
   ]
  },
  {
   "cell_type": "code",
   "execution_count": 10,
   "metadata": {},
   "outputs": [],
   "source": [
    "def updateclusterCenters(clusters):\n",
    "    for i in range(k):\n",
    "        pts = np.array(clusters[i]['points'])\n",
    "        if pts.shape[0]>0:\n",
    "            u = pts.mean(axis=0)\n",
    "            clusters[i]['center'] = u\n",
    "            clusters[i]['points'] = []"
   ]
  },
  {
   "cell_type": "code",
   "execution_count": 11,
   "metadata": {},
   "outputs": [],
   "source": [
    "def plotClusters(clusters):\n",
    "    for i in range(k):\n",
    "        # GET all the points assigned\n",
    "        pts = np.array(clusters[i]['points'])\n",
    "        ui = clusters[i]['center']\n",
    "        if pts.shape[0]>0:\n",
    "            clr = clusters[i]['color']\n",
    "            plt.scatter(pts[:,0],pts[:,1],c=clr)\n",
    "        plt.scatter(ui[0],ui[1],color='black', marker='*')"
   ]
  },
  {
   "cell_type": "code",
   "execution_count": 12,
   "metadata": {},
   "outputs": [
    {
     "data": {
      "image/png": "[encoded data removed]",
      "text/plain": [
       "<Figure size 432x288 with 1 Axes>"
      ]
     },
     "metadata": {
      "needs_background": "light"
     },
     "output_type": "display_data"
    }
   ],
   "source": [
    "assignpointtoCLuster(clusters)\n",
    "plotClusters(clusters)\n",
    "updateclusterCenters(clusters)"
   ]
  },
  {
   "cell_type": "code",
   "execution_count": null,
   "metadata": {},
   "outputs": [],
   "source": []
  }
 ],
 "metadata": {
  "kernelspec": {
   "display_name": "Python 3",
   "language": "python",
   "name": "python3"
  },
  "language_info": {
   "codemirror_mode": {
    "name": "ipython",
    "version": 3
   },
   "file_extension": ".py",
   "mimetype": "text/x-python",
   "name": "python",
   "nbconvert_exporter": "python",
   "pygments_lexer": "ipython3",
   "version": "3.7.3"
  }
 },
 "nbformat": 4,
 "nbformat_minor": 2
}
