{
 "cells": [
  {
   "cell_type": "code",
   "execution_count": null,
   "metadata": {},
   "outputs": [],
   "source": [
    "import math\n",
    "t=int(input())\n",
    "while t>0:\n",
    "    n=int(input())\n",
    "    s=math.sqrt(n)\n",
    "    i=0\n",
    "    while i<=s:\n",
    "        j=i+1\n",
    "        while j<=s:\n",
    "            if (i*i)+(j*j)==n:\n",
    "                print(\"(\"+str(i)+\",\"+str(j)+\")\", end=\"\")\n",
    "            j=j+1\n",
    "        i=i+1\n",
    "    print()\n",
    "    t = t-1"
   ]
  },
  {
   "cell_type": "code",
   "execution_count": null,
   "metadata": {},
   "outputs": [],
   "source": []
  }
 ],
 "metadata": {
  "kernelspec": {
   "display_name": "Python 3",
   "language": "python",
   "name": "python3"
  },
  "language_info": {
   "codemirror_mode": {
    "name": "ipython",
    "version": 3
   },
   "file_extension": ".py",
   "mimetype": "text/x-python",
   "name": "python",
   "nbconvert_exporter": "python",
   "pygments_lexer": "ipython3",
   "version": "3.7.1"
  }
 },
 "nbformat": 4,
 "nbformat_minor": 2
}
