{
 "cells": [
  {
   "cell_type": "code",
   "execution_count": 1,
   "metadata": {},
   "outputs": [],
   "source": [
    "import numpy as np"
   ]
  },
  {
   "cell_type": "code",
   "execution_count": 2,
   "metadata": {},
   "outputs": [
    {
     "data": {
      "text/plain": [
       "array([7.81601458, 9.24060289, 9.95264058, 7.05115221, 6.49898969,\n",
       "       7.89882923])"
      ]
     },
     "execution_count": 2,
     "metadata": {},
     "output_type": "execute_result"
    }
   ],
   "source": [
    "np.random.uniform(5,10,6)"
   ]
  },
  {
   "cell_type": "code",
   "execution_count": 3,
   "metadata": {},
   "outputs": [],
   "source": [
    "s = np.random.randn(50)"
   ]
  },
  {
   "cell_type": "code",
   "execution_count": 10,
   "metadata": {},
   "outputs": [
    {
     "name": "stdout",
     "output_type": "stream",
     "text": [
      "[62. 63. 62. 54. 66. 56. 60. 54. 60. 58. 56. 64. 55. 55. 56. 58. 62. 61.\n",
      " 62. 68. 61. 56. 68. 59. 61. 51. 59. 50. 70. 57. 65. 58. 61. 58. 67. 59.\n",
      " 63. 53. 60. 66. 63. 53. 67. 53. 49. 58. 57. 54. 65. 66.]\n"
     ]
    }
   ],
   "source": [
    "u = 60\n",
    "sig = 5\n",
    "\n",
    "N = s*sig +u\n",
    "print(np.round(N))"
   ]
  },
  {
   "cell_type": "code",
   "execution_count": 11,
   "metadata": {},
   "outputs": [
    {
     "name": "stdout",
     "output_type": "stream",
     "text": [
      "[62. 63. 62. 54. 66. 56. 60. 54. 60. 58. 56. 64. 55. 55. 56. 58. 62. 61.\n",
      " 62. 68. 61. 56. 68. 59. 61. 51. 59. 50. 70. 57. 65. 58. 61. 58. 67. 59.\n",
      " 63. 53. 60. 66. 63. 53. 67. 53. 49. 58. 57. 54. 65. 66.]\n"
     ]
    }
   ],
   "source": [
    "print(np.round(N))"
   ]
  },
  {
   "cell_type": "code",
   "execution_count": 12,
   "metadata": {},
   "outputs": [],
   "source": [
    "### Multivariate Normal"
   ]
  },
  {
   "cell_type": "code",
   "execution_count": 13,
   "metadata": {},
   "outputs": [],
   "source": [
    "data = np.random.multivariate_normal"
   ]
  },
  {
   "cell_type": "code",
   "execution_count": 20,
   "metadata": {},
   "outputs": [],
   "source": [
    "u1 = np.array([0.1,0.5])\n",
    "cov1 = np.array([[1,0],\n",
    "                [0,2]])\n",
    "data = np.random.multivariate_normal(u1,cov1,100)\n",
    "data1 = np.random.multivariate_normal(u1,cov1,1000)\n",
    "data2 = np.random.multivariate_normal(u2,cov2,1000)"
   ]
  },
  {
   "cell_type": "code",
   "execution_count": 26,
   "metadata": {},
   "outputs": [
    {
     "name": "stdout",
     "output_type": "stream",
     "text": [
      "[0. 0. 0. ... 0. 0. 0.]\n",
      "(2000,)\n"
     ]
    }
   ],
   "source": [
    "Y = np.zeros((2000,))\n",
    "print(Y)\n",
    "print(Y.shape)"
   ]
  },
  {
   "cell_type": "code",
   "execution_count": null,
   "metadata": {},
   "outputs": [],
   "source": [
    "plt.scatter()"
   ]
  },
  {
   "cell_type": "code",
   "execution_count": null,
   "metadata": {},
   "outputs": [],
   "source": []
  }
 ],
 "metadata": {
  "kernelspec": {
   "display_name": "Python 3",
   "language": "python",
   "name": "python3"
  },
  "language_info": {
   "codemirror_mode": {
    "name": "ipython",
    "version": 3
   },
   "file_extension": ".py",
   "mimetype": "text/x-python",
   "name": "python",
   "nbconvert_exporter": "python",
   "pygments_lexer": "ipython3",
   "version": "3.7.1"
  }
 },
 "nbformat": 4,
 "nbformat_minor": 2
}
